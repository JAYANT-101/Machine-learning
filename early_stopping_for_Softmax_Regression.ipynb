{
 "cells": [
  {
   "cell_type": "markdown",
   "id": "8192c0a6",
   "metadata": {},
   "source": [
    "### Batch Gradient Descent with early stopping for Softmax Regression"
   ]
  },
  {
   "cell_type": "code",
   "execution_count": 1,
   "id": "2c5dee28",
   "metadata": {},
   "outputs": [
    {
     "data": {
      "text/plain": [
       "['data',\n",
       " 'target',\n",
       " 'frame',\n",
       " 'target_names',\n",
       " 'DESCR',\n",
       " 'feature_names',\n",
       " 'filename',\n",
       " 'data_module']"
      ]
     },
     "execution_count": 1,
     "metadata": {},
     "output_type": "execute_result"
    }
   ],
   "source": [
    "from sklearn.datasets import load_iris\n",
    "import numpy as np\n",
    "\n",
    "iris = load_iris(as_frame=True)\n",
    "list(iris)"
   ]
  },
  {
   "cell_type": "code",
   "execution_count": 2,
   "id": "48420d78",
   "metadata": {},
   "outputs": [],
   "source": [
    "X = iris.data[[\"petal length (cm)\", \"petal width (cm)\"]].values\n",
    "y = iris[\"target\"].values"
   ]
  },
  {
   "cell_type": "markdown",
   "id": "c8637640",
   "metadata": {},
   "source": [
    "Adding bias"
   ]
  },
  {
   "cell_type": "code",
   "execution_count": 3,
   "id": "33453da2",
   "metadata": {},
   "outputs": [],
   "source": [
    "X_with_bias = np.c_[np.ones(len(X)), X]"
   ]
  },
  {
   "cell_type": "markdown",
   "id": "d34951ce",
   "metadata": {},
   "source": [
    "Making a train test split"
   ]
  },
  {
   "cell_type": "code",
   "execution_count": 4,
   "id": "ac1ddc4b",
   "metadata": {},
   "outputs": [],
   "source": [
    "test_ratio = 0.2\n",
    "validation_ratio = 0.2\n",
    "total_size = len(X_with_bias)\n",
    "\n",
    "test_size = int(total_size * test_ratio)\n",
    "validation_size = int(total_size * validation_ratio)\n",
    "train_size = total_size - test_size - validation_size\n",
    "\n",
    "np.random.seed(42)\n",
    "rnd_indices = np.random.permutation(total_size)\n",
    "\n",
    "X_train = X_with_bias[rnd_indices[:train_size]]\n",
    "y_train = y[rnd_indices[:train_size]]\n",
    "X_valid = X_with_bias[rnd_indices[train_size:-test_size]]\n",
    "y_valid = y[rnd_indices[train_size:-test_size]]\n",
    "X_test = X_with_bias[rnd_indices[-test_size:]]\n",
    "y_test = y[rnd_indices[-test_size:]]"
   ]
  },
  {
   "cell_type": "code",
   "execution_count": 5,
   "id": "92e099ac",
   "metadata": {},
   "outputs": [],
   "source": [
    "def to_one_hot(y):\n",
    "    return np.diag(np.ones(y.max() + 1))[y]"
   ]
  },
  {
   "cell_type": "code",
   "execution_count": 6,
   "id": "bba4a24b",
   "metadata": {},
   "outputs": [
    {
     "data": {
      "text/plain": [
       "array([1, 0, 2, 1, 1, 0, 1, 2, 1, 1])"
      ]
     },
     "execution_count": 6,
     "metadata": {},
     "output_type": "execute_result"
    }
   ],
   "source": [
    "y_train[:10]"
   ]
  },
  {
   "cell_type": "code",
   "execution_count": 7,
   "id": "7a553ba0",
   "metadata": {},
   "outputs": [
    {
     "data": {
      "text/plain": [
       "array([[0., 1., 0.],\n",
       "       [1., 0., 0.],\n",
       "       [0., 0., 1.],\n",
       "       [0., 1., 0.],\n",
       "       [0., 1., 0.],\n",
       "       [1., 0., 0.],\n",
       "       [0., 1., 0.],\n",
       "       [0., 0., 1.],\n",
       "       [0., 1., 0.],\n",
       "       [0., 1., 0.]])"
      ]
     },
     "execution_count": 7,
     "metadata": {},
     "output_type": "execute_result"
    }
   ],
   "source": [
    "to_one_hot(y_train[:10])"
   ]
  },
  {
   "cell_type": "code",
   "execution_count": 8,
   "id": "601a9158",
   "metadata": {},
   "outputs": [],
   "source": [
    "Y_train_one_hot = to_one_hot(y_train)\n",
    "Y_valid_one_hot = to_one_hot(y_valid)\n",
    "Y_test_one_hot = to_one_hot(y_test)"
   ]
  },
  {
   "cell_type": "code",
   "execution_count": 9,
   "id": "00d906be",
   "metadata": {},
   "outputs": [],
   "source": [
    "mean = X_train[:, 1:].mean(axis=0)\n",
    "std = X_train[:, 1:].std(axis=0)\n",
    "X_train[:, 1:] = (X_train[:, 1:] - mean) / std\n",
    "X_valid[:, 1:] = (X_valid[:, 1:] - mean) / std\n",
    "X_test[:, 1:] = (X_test[:, 1:] - mean) / std"
   ]
  },
  {
   "cell_type": "code",
   "execution_count": 10,
   "id": "22802af8",
   "metadata": {},
   "outputs": [],
   "source": [
    "def softmax(logits):\n",
    "    exps = np.exp(logits)\n",
    "    exp_sums = exps.sum(axis=1, keepdims=True)\n",
    "    return exps / exp_sums"
   ]
  },
  {
   "cell_type": "code",
   "execution_count": 11,
   "id": "d304fdf2",
   "metadata": {},
   "outputs": [],
   "source": [
    "n_inputs = X_train.shape[1]  # == 3 (2 features plus the bias term)\n",
    "n_outputs = len(np.unique(y_train))  # == 3 (there are 3 iris classes)"
   ]
  },
  {
   "cell_type": "code",
   "execution_count": 20,
   "id": "4b97c634",
   "metadata": {},
   "outputs": [
    {
     "name": "stdout",
     "output_type": "stream",
     "text": [
      "0 3.7085808486476917\n",
      "1000 0.14519367480830644\n",
      "2000 0.1301309575504088\n",
      "3000 0.12009639326384539\n",
      "4000 0.11372961364786884\n",
      "5000 0.11002459532472425\n"
     ]
    }
   ],
   "source": [
    "eta = 0.5\n",
    "n_epochs = 5001\n",
    "m = len(X_train)\n",
    "epsilon = 1e-5\n",
    "\n",
    "np.random.seed(42)\n",
    "Theta = np.random.randn(n_inputs, n_outputs)\n",
    "\n",
    "for epoch in range(n_epochs):\n",
    "    logits = X_train @ Theta\n",
    "    Y_proba = softmax(logits)\n",
    "    if epoch % 1000 == 0:\n",
    "        Y_proba_valid = softmax(X_valid @ Theta)\n",
    "        xentropy_losses = -(Y_valid_one_hot * np.log(Y_proba_valid + epsilon))\n",
    "        print(epoch, xentropy_losses.sum(axis=1).mean())\n",
    "    error = Y_proba - Y_train_one_hot\n",
    "    gradients = 1 / m * X_train.T @ error\n",
    "    Theta = Theta - eta * gradients"
   ]
  },
  {
   "cell_type": "code",
   "execution_count": 22,
   "id": "4112ee3d",
   "metadata": {},
   "outputs": [
    {
     "data": {
      "text/plain": [
       "array([[ 4.66800613e-05, -5.88018995e-03,  5.83350989e-03],\n",
       "       [-1.90755932e-03,  1.90755932e-03,  1.05295323e-15],\n",
       "       [ 2.23643901e-18,  1.66893328e-07, -1.66893328e-07],\n",
       "       [ 1.00652123e-05, -2.77405207e-02,  2.77304555e-02],\n",
       "       [ 7.61172155e-06, -5.23982815e-02,  5.23906697e-02],\n",
       "       [-2.04768137e-03,  2.04768137e-03,  9.70581574e-16],\n",
       "       [ 8.12331322e-04, -8.63656122e-04,  5.13247994e-05],\n",
       "       [ 7.42398502e-12,  1.60323392e-03, -1.60323393e-03],\n",
       "       [ 1.00652123e-05, -2.77405207e-02,  2.77304555e-02],\n",
       "       [ 6.30387562e-04, -7.29891140e-04,  9.95035771e-05],\n",
       "       [ 8.51176665e-10,  2.11675000e-02, -2.11675008e-02],\n",
       "       [-1.70741651e-04,  1.70741651e-04,  3.61035371e-18],\n",
       "       [-2.53616664e-04,  2.53616664e-04,  7.66511406e-18],\n",
       "       [-2.36232711e-04,  2.36232711e-04,  8.31461676e-18],\n",
       "       [-9.97277324e-04,  9.97277324e-04,  1.98684103e-16],\n",
       "       [ 2.21441154e-06, -1.58258172e-01,  1.58255957e-01],\n",
       "       [ 1.05770932e-13,  1.07901098e-04, -1.07901098e-04],\n",
       "       [ 1.29493250e-03, -1.33673020e-03,  4.17977003e-05],\n",
       "       [ 4.35156671e-05, -5.05686656e-03,  5.01335090e-03],\n",
       "       [ 5.60951391e-13,  2.98900575e-04, -2.98900576e-04],\n",
       "       [-6.71557512e-04,  6.71557512e-04,  9.36051679e-17],\n",
       "       [ 8.23713143e-08,  2.53256856e-01, -2.53256938e-01],\n",
       "       [-2.83106821e-03,  2.83106821e-03,  2.23363354e-15],\n",
       "       [ 2.74202898e-12,  7.10837360e-04, -7.10837363e-04],\n",
       "       [ 1.69483229e-14,  2.87179655e-05, -2.87179655e-05],\n",
       "       [ 3.22547899e-12,  9.63791361e-04, -9.63791365e-04],\n",
       "       [ 6.02861319e-11,  3.44559073e-03, -3.44559079e-03],\n",
       "       [ 9.39192519e-15,  2.72487434e-05, -2.72487434e-05],\n",
       "       [-7.20953156e-04,  7.20953156e-04,  8.62903631e-17],\n",
       "       [-6.71557512e-04,  6.71557512e-04,  9.36051679e-17],\n",
       "       [-9.57545321e-05,  9.57545321e-05,  6.27515408e-19],\n",
       "       [-2.04768137e-03,  2.04768137e-03,  9.70581574e-16],\n",
       "       [ 2.92310052e-05, -7.17964319e-03,  7.15041219e-03],\n",
       "       [-6.71557512e-04,  6.71557512e-04,  9.36051679e-17],\n",
       "       [-2.53616664e-04,  2.53616664e-04,  7.66511406e-18],\n",
       "       [ 9.02136609e-09,  7.88841671e-02, -7.88841761e-02],\n",
       "       [ 1.00652123e-05, -2.77405207e-02,  2.77304555e-02],\n",
       "       [-4.85439467e-04,  4.85439467e-04,  4.06499271e-17],\n",
       "       [-3.50884785e-04,  3.50884785e-04,  1.76521374e-17],\n",
       "       [-2.36232711e-04,  2.36232711e-04,  8.31461676e-18],\n",
       "       [ 4.04434865e-09,  4.89322438e-02, -4.89322479e-02],\n",
       "       [ 4.71652482e-06, -6.35498050e-02,  6.35450885e-02],\n",
       "       [ 5.01128944e-06, -7.32411460e-02,  7.32361347e-02],\n",
       "       [-1.07060525e-03,  1.07060525e-03,  1.83153481e-16],\n",
       "       [-4.85439467e-04,  4.85439467e-04,  4.06499271e-17],\n",
       "       [ 5.07663867e-03, -5.08295572e-03,  6.31704311e-06],\n",
       "       [ 9.18225832e-07,  6.22418923e-01, -6.22419841e-01],\n",
       "       [ 7.27459444e-10,  1.56952428e-02, -1.56952435e-02],\n",
       "       [ 2.92310052e-05, -7.17964319e-03,  7.15041219e-03],\n",
       "       [ 7.40409928e-17,  1.73751568e-06, -1.73751568e-06],\n",
       "       [ 1.15720394e-04, -1.20698372e-03,  1.09126333e-03],\n",
       "       [ 6.53385725e-16,  4.35670254e-06, -4.35670254e-06],\n",
       "       [ 1.00652123e-05, -2.77405207e-02,  2.77304555e-02],\n",
       "       [-3.50884785e-04,  3.50884785e-04,  1.76521374e-17],\n",
       "       [ 1.38731058e-15,  6.22712606e-06, -6.22712606e-06],\n",
       "       [ 1.39010644e-03, -1.43877734e-03,  4.86708996e-05],\n",
       "       [-3.50884785e-04,  3.50884785e-04,  1.76521374e-17],\n",
       "       [-5.21152550e-04,  5.21152550e-04,  3.74738393e-17],\n",
       "       [-7.46473780e-03,  7.46473780e-03,  2.71613860e-14],\n",
       "       [ 9.67440807e-03, -9.67667752e-03,  2.26944741e-06],\n",
       "       [ 8.23713143e-08,  2.53256856e-01, -2.53256938e-01],\n",
       "       [-1.77700868e-03,  1.77700868e-03,  1.14230465e-15],\n",
       "       [-6.71557512e-04,  6.71557512e-04,  9.36051679e-17],\n",
       "       [-8.00979315e-03,  8.00979315e-03,  2.50263379e-14],\n",
       "       [ 1.15720394e-04, -1.20698372e-03,  1.09126333e-03],\n",
       "       [-4.85439467e-04,  4.85439467e-04,  4.06499271e-17],\n",
       "       [ 2.37976986e-04, -6.96888355e-04,  4.58911369e-04],\n",
       "       [ 5.80128660e-17,  1.10013229e-06, -1.10013229e-06],\n",
       "       [-3.50884785e-04,  3.50884785e-04,  1.76521374e-17],\n",
       "       [ 8.35756946e-05, -1.89875941e-03,  1.81518371e-03],\n",
       "       [ 1.93318858e-09,  3.47452207e-02, -3.47452226e-02],\n",
       "       [-3.50884785e-04,  3.50884785e-04,  1.76521374e-17],\n",
       "       [ 1.62384137e-07,  3.60827651e-01, -3.60827813e-01],\n",
       "       [ 4.04434865e-09,  4.89322438e-02, -4.89322479e-02],\n",
       "       [ 1.92244506e-03, -1.95167004e-03,  2.92249867e-05],\n",
       "       [ 1.00652123e-05, -2.77405207e-02,  2.77304555e-02],\n",
       "       [ 6.08443046e-13,  3.48070130e-04, -3.48070131e-04],\n",
       "       [ 2.21679180e-04, -6.15775792e-04,  3.94096611e-04],\n",
       "       [-3.91298227e-03,  3.91298227e-03,  5.13879622e-15],\n",
       "       [ 1.83593617e-02, -1.83601736e-02,  8.11916623e-07],\n",
       "       [ 7.87054135e-10,  1.82309442e-02, -1.82309449e-02],\n",
       "       [-3.50884785e-04,  3.50884785e-04,  1.76521374e-17],\n",
       "       [-1.83307115e-04,  1.83307115e-04,  3.32834419e-18],\n",
       "       [ 1.79088489e-03, -1.81598364e-03,  2.50987443e-05],\n",
       "       [ 1.57744914e-07, -6.73512715e-01,  6.73512557e-01],\n",
       "       [-4.85439467e-04,  4.85439467e-04,  4.06499271e-17],\n",
       "       [ 1.51955034e-12,  6.74494189e-04, -6.74494190e-04],\n",
       "       [-4.85439467e-04,  4.85439467e-04,  4.06499271e-17],\n",
       "       [-1.18525010e-02,  1.18525010e-02,  5.29317880e-14],\n",
       "       [ 1.62384137e-07, -6.39172349e-01,  6.39172187e-01]])"
      ]
     },
     "execution_count": 22,
     "metadata": {},
     "output_type": "execute_result"
    }
   ],
   "source": [
    "error"
   ]
  }
 ],
 "metadata": {
  "kernelspec": {
   "display_name": "Python 3",
   "language": "python",
   "name": "python3"
  },
  "language_info": {
   "codemirror_mode": {
    "name": "ipython",
    "version": 3
   },
   "file_extension": ".py",
   "mimetype": "text/x-python",
   "name": "python",
   "nbconvert_exporter": "python",
   "pygments_lexer": "ipython3",
   "version": "3.13.5"
  }
 },
 "nbformat": 4,
 "nbformat_minor": 5
}
