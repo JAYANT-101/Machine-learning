{
 "cells": [
  {
   "cell_type": "markdown",
   "id": "391d0a1a",
   "metadata": {},
   "source": [
    "Importing data in to the dataset file \n",
    "This is used to import data from local to dataset file"
   ]
  },
  {
   "cell_type": "code",
   "execution_count": null,
   "id": "3548e723",
   "metadata": {},
   "outputs": [
    {
     "name": "stdout",
     "output_type": "stream",
     "text": [
      "complited\n"
     ]
    }
   ],
   "source": [
    "# import os \n",
    "# import shutil\n",
    "# from pathlib import Path\n",
    "# Vehicle_price_data=Path() / \"datasets\" / \"Vehicle_data\"\n",
    "# path=r'C:\\Users\\jayan\\Downloads\\Projects\\Vehicle Price Prediction\\dataset.csv'\n",
    "# Vehicle_price_data.mkdir(parents=True, exist_ok=True)\n",
    "# try:\n",
    "#  shutil.copy(path, Vehicle_price_data)\n",
    "#  print(\"complited\")\n",
    "# except FileNotFoundError:\n",
    "#  print(\"file not fund\")\n",
    "# except shutil.SameFileError:\n",
    "#  print(\"file name alredy int it\")\n",
    "# except OSError as e:\n",
    "#  print(f\"{e}\")"
   ]
  },
  {
   "cell_type": "code",
   "execution_count": 4,
   "id": "328954ba",
   "metadata": {},
   "outputs": [],
   "source": [
    "import pandas as pd\n",
    "all_Data= pd.read_csv('datasets/Vehicle_data/dataset.csv')"
   ]
  },
  {
   "cell_type": "code",
   "execution_count": 6,
   "id": "75970dd1",
   "metadata": {},
   "outputs": [
    {
     "name": "stdout",
     "output_type": "stream",
     "text": [
      "<class 'pandas.core.frame.DataFrame'>\n",
      "RangeIndex: 1002 entries, 0 to 1001\n",
      "Data columns (total 17 columns):\n",
      " #   Column          Non-Null Count  Dtype  \n",
      "---  ------          --------------  -----  \n",
      " 0   name            1002 non-null   object \n",
      " 1   description     946 non-null    object \n",
      " 2   make            1002 non-null   object \n",
      " 3   model           1002 non-null   object \n",
      " 4   year            1002 non-null   int64  \n",
      " 5   price           979 non-null    float64\n",
      " 6   engine          1000 non-null   object \n",
      " 7   cylinders       897 non-null    float64\n",
      " 8   fuel            995 non-null    object \n",
      " 9   mileage         968 non-null    float64\n",
      " 10  transmission    1000 non-null   object \n",
      " 11  trim            1001 non-null   object \n",
      " 12  body            999 non-null    object \n",
      " 13  doors           995 non-null    float64\n",
      " 14  exterior_color  997 non-null    object \n",
      " 15  interior_color  964 non-null    object \n",
      " 16  drivetrain      1002 non-null   object \n",
      "dtypes: float64(4), int64(1), object(12)\n",
      "memory usage: 133.2+ KB\n"
     ]
    }
   ],
   "source": [
    "all_Data.info()"
   ]
  }
 ],
 "metadata": {
  "kernelspec": {
   "display_name": "Python 3",
   "language": "python",
   "name": "python3"
  },
  "language_info": {
   "codemirror_mode": {
    "name": "ipython",
    "version": 3
   },
   "file_extension": ".py",
   "mimetype": "text/x-python",
   "name": "python",
   "nbconvert_exporter": "python",
   "pygments_lexer": "ipython3",
   "version": "3.13.5"
  }
 },
 "nbformat": 4,
 "nbformat_minor": 5
}
