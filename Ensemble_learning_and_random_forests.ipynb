{
 "cells": [
  {
   "cell_type": "markdown",
   "id": "f31c8556",
   "metadata": {},
   "source": [
    "voting classifier"
   ]
  }
 ],
 "metadata": {
  "language_info": {
   "name": "python"
  }
 },
 "nbformat": 4,
 "nbformat_minor": 5
}
